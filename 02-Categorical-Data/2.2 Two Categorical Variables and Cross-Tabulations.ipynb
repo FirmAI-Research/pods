{
  "nbformat": 4,
  "nbformat_minor": 0,
  "metadata": {
    "kernelspec": {
      "display_name": "Python 3",
      "language": "python",
      "name": "python3"
    },
    "language_info": {
      "codemirror_mode": {
        "name": "ipython",
        "version": 3
      },
      "file_extension": ".py",
      "mimetype": "text/x-python",
      "name": "python",
      "nbconvert_exporter": "python",
      "pygments_lexer": "ipython3",
      "version": "3.6.8"
    },
    "colab": {
      "name": "2.2 Two Categorical Variables and Cross-Tabulations.ipynb",
      "provenance": [],
      "include_colab_link": true
    }
  },
  "cells": [
    {
      "cell_type": "markdown",
      "metadata": {
        "id": "view-in-github",
        "colab_type": "text"
      },
      "source": [
        "<a href=\"https://colab.research.google.com/github/dlsun/pods/blob/master/02-Categorical-Data/2.2%20Two%20Categorical%20Variables%20and%20Cross-Tabulations.ipynb\" target=\"_parent\"><img src=\"https://colab.research.google.com/assets/colab-badge.svg\" alt=\"Open In Colab\"/></a>"
      ]
    },
    {
      "cell_type": "markdown",
      "metadata": {
        "id": "wYwaQ8kH5T3p",
        "colab_type": "text"
      },
      "source": [
        "# Two-Way Tables and Two Categorical Variables"
      ]
    },
    {
      "cell_type": "markdown",
      "metadata": {
        "id": "rQVaqbgu5T3s",
        "colab_type": "text"
      },
      "source": [
        "Data science is all about relationships between variables. How do we summarize and visualize the relationship between two categorical variables?\n",
        "\n",
        "For example, what can we say about the relationship between gender and survival on the Titanic?"
      ]
    },
    {
      "cell_type": "code",
      "metadata": {
        "id": "1EBjRynE5T3t",
        "colab_type": "code",
        "colab": {}
      },
      "source": [
        "import pandas as pd\n",
        "data_dir = \"http://dlsun.github.io/pods/data/\"\n",
        "df_titanic = pd.read_csv(data_dir + \"titanic.csv\")"
      ],
      "execution_count": 0,
      "outputs": []
    },
    {
      "cell_type": "markdown",
      "metadata": {
        "id": "HV_CxOyd5T3x",
        "colab_type": "text"
      },
      "source": [
        "We can summarize each variable individually like we did in the previous lesson."
      ]
    },
    {
      "cell_type": "code",
      "metadata": {
        "id": "IoU2Oyh45T3y",
        "colab_type": "code",
        "colab": {
          "base_uri": "https://localhost:8080/",
          "height": 69
        },
        "outputId": "6c149aef-1e56-4e33-e9a9-c10e7d9aa99c"
      },
      "source": [
        "df_titanic[\"gender\"].value_counts()"
      ],
      "execution_count": 2,
      "outputs": [
        {
          "output_type": "execute_result",
          "data": {
            "text/plain": [
              "male      1718\n",
              "female     489\n",
              "Name: gender, dtype: int64"
            ]
          },
          "metadata": {
            "tags": []
          },
          "execution_count": 2
        }
      ]
    },
    {
      "cell_type": "code",
      "metadata": {
        "id": "JDOvAR_c5T31",
        "colab_type": "code",
        "colab": {
          "base_uri": "https://localhost:8080/",
          "height": 69
        },
        "outputId": "694c493b-1e94-4d85-9e04-197c7b81f50a"
      },
      "source": [
        "df_titanic[\"survived\"].value_counts()"
      ],
      "execution_count": 3,
      "outputs": [
        {
          "output_type": "execute_result",
          "data": {
            "text/plain": [
              "0    1496\n",
              "1     711\n",
              "Name: survived, dtype: int64"
            ]
          },
          "metadata": {
            "tags": []
          },
          "execution_count": 3
        }
      ]
    },
    {
      "cell_type": "markdown",
      "metadata": {
        "id": "9-j30d535T35",
        "colab_type": "text"
      },
      "source": [
        "But this does not tell us how gender interacts with survival. To do that, we need to produce a _cross-tabulation_, or \"cross-tab\" for short. (Statisticians tend to call this a _contigency table_ or a _two-way table_.)"
      ]
    },
    {
      "cell_type": "code",
      "metadata": {
        "id": "tfPjloEx5T36",
        "colab_type": "code",
        "colab": {
          "base_uri": "https://localhost:8080/",
          "height": 138
        },
        "outputId": "25f98ad0-e5d3-4431-fd3d-aaf5929245ee"
      },
      "source": [
        "pd.crosstab(df_titanic[\"survived\"], df_titanic[\"gender\"])"
      ],
      "execution_count": 4,
      "outputs": [
        {
          "output_type": "execute_result",
          "data": {
            "text/html": [
              "<div>\n",
              "<style scoped>\n",
              "    .dataframe tbody tr th:only-of-type {\n",
              "        vertical-align: middle;\n",
              "    }\n",
              "\n",
              "    .dataframe tbody tr th {\n",
              "        vertical-align: top;\n",
              "    }\n",
              "\n",
              "    .dataframe thead th {\n",
              "        text-align: right;\n",
              "    }\n",
              "</style>\n",
              "<table border=\"1\" class=\"dataframe\">\n",
              "  <thead>\n",
              "    <tr style=\"text-align: right;\">\n",
              "      <th>gender</th>\n",
              "      <th>female</th>\n",
              "      <th>male</th>\n",
              "    </tr>\n",
              "    <tr>\n",
              "      <th>survived</th>\n",
              "      <th></th>\n",
              "      <th></th>\n",
              "    </tr>\n",
              "  </thead>\n",
              "  <tbody>\n",
              "    <tr>\n",
              "      <th>0</th>\n",
              "      <td>130</td>\n",
              "      <td>1366</td>\n",
              "    </tr>\n",
              "    <tr>\n",
              "      <th>1</th>\n",
              "      <td>359</td>\n",
              "      <td>352</td>\n",
              "    </tr>\n",
              "  </tbody>\n",
              "</table>\n",
              "</div>"
            ],
            "text/plain": [
              "gender    female  male\n",
              "survived              \n",
              "0            130  1366\n",
              "1            359   352"
            ]
          },
          "metadata": {
            "tags": []
          },
          "execution_count": 4
        }
      ]
    },
    {
      "cell_type": "markdown",
      "metadata": {
        "id": "stYsPqxu5T38",
        "colab_type": "text"
      },
      "source": [
        "A cross-tabulation of two categorical variables is a two-dimensional array, with the levels of one variable along the rows and the levels of the other variable along the columns. Each cell in this array contains the number of observations that had a particular combination of levels. So in the Titanic data set, there were 359 females who survived and 1366 males who died. From the cross-tabulation, we can see that there were more females who survived than not, while there were more males who died than not. Clearly, gender had a strong influence on survival because of the Titanic's policy of [\"women and children first\"](https://en.wikipedia.org/wiki/Women_and_children_first).\n",
        "\n",
        "To get probabilities instead of counts, we specify `normalize=True`.\n"
      ]
    },
    {
      "cell_type": "code",
      "metadata": {
        "id": "26rO6gus5T39",
        "colab_type": "code",
        "colab": {
          "base_uri": "https://localhost:8080/",
          "height": 138
        },
        "outputId": "09f78fd7-1037-4735-b900-c3976131932b"
      },
      "source": [
        "joint_survived_gender = pd.crosstab(df_titanic[\"survived\"], df_titanic[\"gender\"], \n",
        "                                    normalize=True)\n",
        "joint_survived_gender"
      ],
      "execution_count": 5,
      "outputs": [
        {
          "output_type": "execute_result",
          "data": {
            "text/html": [
              "<div>\n",
              "<style scoped>\n",
              "    .dataframe tbody tr th:only-of-type {\n",
              "        vertical-align: middle;\n",
              "    }\n",
              "\n",
              "    .dataframe tbody tr th {\n",
              "        vertical-align: top;\n",
              "    }\n",
              "\n",
              "    .dataframe thead th {\n",
              "        text-align: right;\n",
              "    }\n",
              "</style>\n",
              "<table border=\"1\" class=\"dataframe\">\n",
              "  <thead>\n",
              "    <tr style=\"text-align: right;\">\n",
              "      <th>gender</th>\n",
              "      <th>female</th>\n",
              "      <th>male</th>\n",
              "    </tr>\n",
              "    <tr>\n",
              "      <th>survived</th>\n",
              "      <th></th>\n",
              "      <th></th>\n",
              "    </tr>\n",
              "  </thead>\n",
              "  <tbody>\n",
              "    <tr>\n",
              "      <th>0</th>\n",
              "      <td>0.058903</td>\n",
              "      <td>0.618940</td>\n",
              "    </tr>\n",
              "    <tr>\n",
              "      <th>1</th>\n",
              "      <td>0.162664</td>\n",
              "      <td>0.159493</td>\n",
              "    </tr>\n",
              "  </tbody>\n",
              "</table>\n",
              "</div>"
            ],
            "text/plain": [
              "gender      female      male\n",
              "survived                    \n",
              "0         0.058903  0.618940\n",
              "1         0.162664  0.159493"
            ]
          },
          "metadata": {
            "tags": []
          },
          "execution_count": 5
        }
      ]
    },
    {
      "cell_type": "markdown",
      "metadata": {
        "id": "avjKJMgH5T3_",
        "colab_type": "text"
      },
      "source": [
        "Notice that the four probabilities in this table add up to 1.0. Each of these probabilities is called a joint probability and can be notated, for example, as \n",
        "\n",
        "$$ P(\\text{female}, \\text{died}) = 0.058903.$$\n",
        "\n",
        "Collectively, these probabilities make up the _joint distribution_ of the variables **survived** and **gender**."
      ]
    },
    {
      "cell_type": "markdown",
      "metadata": {
        "id": "viccCmLk5T4A",
        "colab_type": "text"
      },
      "source": [
        "## Marginal Distributions\n",
        "\n",
        "Is it possible to recover the distribution of **gender** alone from the joint distribution of **survived** and **gender**? "
      ]
    },
    {
      "cell_type": "markdown",
      "metadata": {
        "id": "Oed801JC5T4B",
        "colab_type": "text"
      },
      "source": [
        "Yes! We simply sum the probabilities for each **gender** over all the possible levels of **survived**.\n",
        "\n",
        "\\begin{align}\n",
        "P(\\text{female}) = P(\\text{female}, \\text{died}) + P(\\text{female}, \\text{survived}) &= 0.058903 + 0.162664 = 0.221567 \\\\\n",
        "P(\\text{male}) = P(\\text{male}, \\text{died}) + P(\\text{male}, \\text{survived}) &= 0.618940 + 0.159493 = 0.778433\n",
        "\\end{align}"
      ]
    },
    {
      "cell_type": "markdown",
      "metadata": {
        "id": "-dfxBIpe5T4C",
        "colab_type": "text"
      },
      "source": [
        "In code, this can be achieved by summing the `DataFrame` _over_ one of the dimensions. We can specify which dimension to sum over, using the `axis=` argument to `.sum()`.\n",
        "\n",
        "- `axis=0` refers to the rows. In the current example, **survived** is the variable along this axis.\n",
        "- `axis=1` refers to the columns. In the current example, **gender** is the variable along this axis.\n",
        "\n",
        "Since we want to sum _over_ the **survived** variable, we specify `.sum(axis=0)`."
      ]
    },
    {
      "cell_type": "code",
      "metadata": {
        "id": "N11E5yfV5T4C",
        "colab_type": "code",
        "colab": {
          "base_uri": "https://localhost:8080/",
          "height": 86
        },
        "outputId": "114feb32-bab8-4ed9-9b5e-dc6a6f3324ec"
      },
      "source": [
        "gender = joint_survived_gender.sum(axis=0)\n",
        "gender"
      ],
      "execution_count": 6,
      "outputs": [
        {
          "output_type": "execute_result",
          "data": {
            "text/plain": [
              "gender\n",
              "female    0.221568\n",
              "male      0.778432\n",
              "dtype: float64"
            ]
          },
          "metadata": {
            "tags": []
          },
          "execution_count": 6
        }
      ]
    },
    {
      "cell_type": "markdown",
      "metadata": {
        "id": "N4V_vHVa5T4F",
        "colab_type": "text"
      },
      "source": [
        "When calculated from a joint distribution, the distribution of one variable is called a _marginal distribution_. So the above is the marginal distribution of **gender**. \n",
        "\n",
        "The name \"marginal distribution\" comes from the fact that it is customary to write these totals in the _margins_ of the table. In fact `pd.crosstab()` has an argument `margins=` that automatically adds these margins to the cross-tabulation."
      ]
    },
    {
      "cell_type": "code",
      "metadata": {
        "id": "1IVYHfJE5T4G",
        "colab_type": "code",
        "colab": {
          "base_uri": "https://localhost:8080/",
          "height": 168
        },
        "outputId": "51c8d9cf-9c10-48b3-80cb-bba4921b9f66"
      },
      "source": [
        "pd.crosstab(df_titanic[\"survived\"], df_titanic[\"gender\"], \n",
        "            normalize=True, margins=True)"
      ],
      "execution_count": 7,
      "outputs": [
        {
          "output_type": "execute_result",
          "data": {
            "text/html": [
              "<div>\n",
              "<style scoped>\n",
              "    .dataframe tbody tr th:only-of-type {\n",
              "        vertical-align: middle;\n",
              "    }\n",
              "\n",
              "    .dataframe tbody tr th {\n",
              "        vertical-align: top;\n",
              "    }\n",
              "\n",
              "    .dataframe thead th {\n",
              "        text-align: right;\n",
              "    }\n",
              "</style>\n",
              "<table border=\"1\" class=\"dataframe\">\n",
              "  <thead>\n",
              "    <tr style=\"text-align: right;\">\n",
              "      <th>gender</th>\n",
              "      <th>female</th>\n",
              "      <th>male</th>\n",
              "      <th>All</th>\n",
              "    </tr>\n",
              "    <tr>\n",
              "      <th>survived</th>\n",
              "      <th></th>\n",
              "      <th></th>\n",
              "      <th></th>\n",
              "    </tr>\n",
              "  </thead>\n",
              "  <tbody>\n",
              "    <tr>\n",
              "      <th>0</th>\n",
              "      <td>0.058903</td>\n",
              "      <td>0.618940</td>\n",
              "      <td>0.677843</td>\n",
              "    </tr>\n",
              "    <tr>\n",
              "      <th>1</th>\n",
              "      <td>0.162664</td>\n",
              "      <td>0.159493</td>\n",
              "      <td>0.322157</td>\n",
              "    </tr>\n",
              "    <tr>\n",
              "      <th>All</th>\n",
              "      <td>0.221568</td>\n",
              "      <td>0.778432</td>\n",
              "      <td>1.000000</td>\n",
              "    </tr>\n",
              "  </tbody>\n",
              "</table>\n",
              "</div>"
            ],
            "text/plain": [
              "gender      female      male       All\n",
              "survived                              \n",
              "0         0.058903  0.618940  0.677843\n",
              "1         0.162664  0.159493  0.322157\n",
              "All       0.221568  0.778432  1.000000"
            ]
          },
          "metadata": {
            "tags": []
          },
          "execution_count": 7
        }
      ]
    },
    {
      "cell_type": "markdown",
      "metadata": {
        "id": "xXEAUmrY5T4J",
        "colab_type": "text"
      },
      "source": [
        "While the margins are useful for display purposes, they actually make computations more difficult, since it is easy to mix up which numbers correspond to joint probabilities and which ones correspond to marginal probabilities.\n",
        "\n",
        "Likewise, to obtain the marginal distribution of **survived**, we sum over the possible levels of **gender** (which is the variable along `axis=1`)."
      ]
    },
    {
      "cell_type": "code",
      "metadata": {
        "id": "73nrjS6q5T4K",
        "colab_type": "code",
        "colab": {
          "base_uri": "https://localhost:8080/",
          "height": 86
        },
        "outputId": "76d85e44-8448-4316-8222-2c72ea098c62"
      },
      "source": [
        "survived = joint_survived_gender.sum(axis=1)\n",
        "survived"
      ],
      "execution_count": 8,
      "outputs": [
        {
          "output_type": "execute_result",
          "data": {
            "text/plain": [
              "survived\n",
              "0    0.677843\n",
              "1    0.322157\n",
              "dtype: float64"
            ]
          },
          "metadata": {
            "tags": []
          },
          "execution_count": 8
        }
      ]
    },
    {
      "cell_type": "markdown",
      "metadata": {
        "id": "6_XMWBA_5T4M",
        "colab_type": "text"
      },
      "source": [
        "We can check this answer by calculating the distribution of **survived** directly from the original data, using the techniques from the previous lesson."
      ]
    },
    {
      "cell_type": "code",
      "metadata": {
        "id": "iT5MSEBu5T4N",
        "colab_type": "code",
        "colab": {
          "base_uri": "https://localhost:8080/",
          "height": 69
        },
        "outputId": "befe7718-4efd-4618-a54d-412a4044c88c"
      },
      "source": [
        "df_titanic[\"survived\"].value_counts(normalize=True)"
      ],
      "execution_count": 9,
      "outputs": [
        {
          "output_type": "execute_result",
          "data": {
            "text/plain": [
              "0    0.677843\n",
              "1    0.322157\n",
              "Name: survived, dtype: float64"
            ]
          },
          "metadata": {
            "tags": []
          },
          "execution_count": 9
        }
      ]
    },
    {
      "cell_type": "markdown",
      "metadata": {
        "id": "o3c5zVCp5T4P",
        "colab_type": "text"
      },
      "source": [
        "## Conditional Distributions\n",
        "\n",
        "Let's take another look at the joint distribution of **survived** and **gender**."
      ]
    },
    {
      "cell_type": "code",
      "metadata": {
        "id": "NnNzfDhl5T4Q",
        "colab_type": "code",
        "colab": {
          "base_uri": "https://localhost:8080/",
          "height": 138
        },
        "outputId": "493b69f0-b814-4d09-d2d2-53fd825f2bbe"
      },
      "source": [
        "joint_survived_gender"
      ],
      "execution_count": 10,
      "outputs": [
        {
          "output_type": "execute_result",
          "data": {
            "text/html": [
              "<div>\n",
              "<style scoped>\n",
              "    .dataframe tbody tr th:only-of-type {\n",
              "        vertical-align: middle;\n",
              "    }\n",
              "\n",
              "    .dataframe tbody tr th {\n",
              "        vertical-align: top;\n",
              "    }\n",
              "\n",
              "    .dataframe thead th {\n",
              "        text-align: right;\n",
              "    }\n",
              "</style>\n",
              "<table border=\"1\" class=\"dataframe\">\n",
              "  <thead>\n",
              "    <tr style=\"text-align: right;\">\n",
              "      <th>gender</th>\n",
              "      <th>female</th>\n",
              "      <th>male</th>\n",
              "    </tr>\n",
              "    <tr>\n",
              "      <th>survived</th>\n",
              "      <th></th>\n",
              "      <th></th>\n",
              "    </tr>\n",
              "  </thead>\n",
              "  <tbody>\n",
              "    <tr>\n",
              "      <th>0</th>\n",
              "      <td>0.058903</td>\n",
              "      <td>0.618940</td>\n",
              "    </tr>\n",
              "    <tr>\n",
              "      <th>1</th>\n",
              "      <td>0.162664</td>\n",
              "      <td>0.159493</td>\n",
              "    </tr>\n",
              "  </tbody>\n",
              "</table>\n",
              "</div>"
            ],
            "text/plain": [
              "gender      female      male\n",
              "survived                    \n",
              "0         0.058903  0.618940\n",
              "1         0.162664  0.159493"
            ]
          },
          "metadata": {
            "tags": []
          },
          "execution_count": 10
        }
      ]
    },
    {
      "cell_type": "markdown",
      "metadata": {
        "id": "QAMzLIyS5T4S",
        "colab_type": "text"
      },
      "source": [
        "From the joint distribution, it is tempting to conclude that females and males did not differ too much in their survival rates, since \n",
        "\n",
        "$$ P(\\text{female}, \\text{survived}) = 0.162664 $$\n",
        "\n",
        "is not too different from\n",
        "\n",
        "$$ P(\\text{male}, \\text{survived}) = 0.159493. $$\n",
        "\n",
        "This is because there were 359 women and 352 men who survived, out of 2207 passengers.\n",
        "\n",
        "But this is the wrong comparison. The joint probabilities are affected by the baseline gender probabilities, and over three-quarters of the people aboard the Titanic were men. $P(\\text{male}, \\text{survived})$ and $ P(\\text{female}, \\text{survived})$ should not even be close if men were just as likely to survive as women, simply because of the sheer number of men aboard."
      ]
    },
    {
      "cell_type": "markdown",
      "metadata": {
        "id": "p9x2uj995T4S",
        "colab_type": "text"
      },
      "source": [
        "A better comparison is between the conditional probabilities. We ought to compare \n",
        "\n",
        "$$ P(\\text{survived} | \\text{female}) $$\n",
        "\n",
        "to \n",
        "\n",
        "$$ P(\\text{survived} | \\text{male}). $$\n",
        "\n",
        "To calculate each conditional probability, we simply divide the joint probability by the marginal probability. That is,\n",
        "\n",
        "\\begin{align}\n",
        "P(\\text{survived} | \\text{female}) = \\frac{P(\\text{female}, \\text{survived})}{P(\\text{female})} &= \\frac{0.162664}{0.221568} = .7341 \\\\\n",
        "P(\\text{survived} | \\text{male}) = \\frac{P(\\text{male}, \\text{survived})}{P(\\text{male})} &= \\frac{0.159493}{0.778432} = .2049\n",
        "\\end{align}\n",
        "\n",
        "The conditional probabilities expose the stark difference in survival rates. One way to think about conditional probabilities is that they _adjust_ for the baseline gender probabilities. By dividing by $P(\\text{male})$ and $P(\\text{female})$, we adjust for the fact that there were more men and fewer women on the Titanic, thus enabling an apples-to-apples comparison."
      ]
    },
    {
      "cell_type": "markdown",
      "metadata": {
        "id": "FxUNMw_Q5T4T",
        "colab_type": "text"
      },
      "source": [
        "In code, this can be achieved by dividing the joint distribution by the marginal distribution (of **gender**). However, we have to be careful:\n",
        "\n",
        "- The joint distribution is a two-dimensional array. It is stored as a `DataFrame`.\n",
        "- The marginal distribution (of **gender**) is a one-dimensional array. It is stored as a `Series`.\n",
        "\n",
        "How is it possible to divide a two-dimensional object by a one-dimensional object? Only by _broadcasting_ the one-dimensional object over the other dimension. To do this, we use the `.divide()` method, specifying the dimension on which to align the `Series` with the `DataFrame`. Since **gender** is on `axis=1` of `joint_survived_gender`, we align the `DataFrame` and `Series` along `axis=1`."
      ]
    },
    {
      "cell_type": "code",
      "metadata": {
        "id": "KP75UNxB5T4U",
        "colab_type": "code",
        "colab": {
          "base_uri": "https://localhost:8080/",
          "height": 138
        },
        "outputId": "1a83477b-11d7-49b4-9cd9-5c7b20d58d07"
      },
      "source": [
        "cond_survived_gender = joint_survived_gender.divide(gender, axis=1)\n",
        "# In this case, joint_survived_gender / gender would also haved worked,\n",
        "# but better to play it safe and be explicit about the axis.\n",
        "\n",
        "cond_survived_gender "
      ],
      "execution_count": 11,
      "outputs": [
        {
          "output_type": "execute_result",
          "data": {
            "text/html": [
              "<div>\n",
              "<style scoped>\n",
              "    .dataframe tbody tr th:only-of-type {\n",
              "        vertical-align: middle;\n",
              "    }\n",
              "\n",
              "    .dataframe tbody tr th {\n",
              "        vertical-align: top;\n",
              "    }\n",
              "\n",
              "    .dataframe thead th {\n",
              "        text-align: right;\n",
              "    }\n",
              "</style>\n",
              "<table border=\"1\" class=\"dataframe\">\n",
              "  <thead>\n",
              "    <tr style=\"text-align: right;\">\n",
              "      <th>gender</th>\n",
              "      <th>female</th>\n",
              "      <th>male</th>\n",
              "    </tr>\n",
              "    <tr>\n",
              "      <th>survived</th>\n",
              "      <th></th>\n",
              "      <th></th>\n",
              "    </tr>\n",
              "  </thead>\n",
              "  <tbody>\n",
              "    <tr>\n",
              "      <th>0</th>\n",
              "      <td>0.265849</td>\n",
              "      <td>0.795111</td>\n",
              "    </tr>\n",
              "    <tr>\n",
              "      <th>1</th>\n",
              "      <td>0.734151</td>\n",
              "      <td>0.204889</td>\n",
              "    </tr>\n",
              "  </tbody>\n",
              "</table>\n",
              "</div>"
            ],
            "text/plain": [
              "gender      female      male\n",
              "survived                    \n",
              "0         0.265849  0.795111\n",
              "1         0.734151  0.204889"
            ]
          },
          "metadata": {
            "tags": []
          },
          "execution_count": 11
        }
      ]
    },
    {
      "cell_type": "markdown",
      "metadata": {
        "id": "m2qHa0pW5T4W",
        "colab_type": "text"
      },
      "source": [
        "Every probability in this table represents a conditional probability of gender given survival status. So from the table, we can read that \n",
        "\n",
        "$$ P(\\text{survived} | \\text{female}) = 0.734151. $$\n",
        "\n",
        "Notice that each row sums to $1.0$---as it must, since given the information that a person was female, there are only two possibilities: she either survived or died.\n",
        "\n",
        "In other words, we have a distribution of **survived** for each level of **gender**. We might wish to compare these two distributions. When we call `.plot.bar()` on the `DataFrame`, it will plot the values in each column as a set of bars with its own color."
      ]
    },
    {
      "cell_type": "code",
      "metadata": {
        "id": "3M5esSwg5T4X",
        "colab_type": "code",
        "colab": {
          "base_uri": "https://localhost:8080/",
          "height": 294
        },
        "outputId": "f3045d44-9a3d-4676-e2ff-e12ef08da799"
      },
      "source": [
        "cond_survived_gender.plot.bar()"
      ],
      "execution_count": 12,
      "outputs": [
        {
          "output_type": "execute_result",
          "data": {
            "text/plain": [
              "<matplotlib.axes._subplots.AxesSubplot at 0x7fbc5fc78278>"
            ]
          },
          "metadata": {
            "tags": []
          },
          "execution_count": 12
        },
        {
          "output_type": "display_data",
          "data": {
            "image/png": "[encoded data removed]",
            "text/plain": [
              "<Figure size 432x288 with 1 Axes>"
            ]
          },
          "metadata": {
            "tags": []
          }
        }
      ]
    },
    {
      "cell_type": "markdown",
      "metadata": {
        "id": "9aekQnQq5T4a",
        "colab_type": "text"
      },
      "source": [
        "A different way to visualize a conditional distribution is to use a stacked bar graph. Here, we want one bar for females and another for males, each one divided in proportion to the survival rates for that gender. First, let's take a look at the desired graph."
      ]
    },
    {
      "cell_type": "code",
      "metadata": {
        "id": "uinqREkO5T4b",
        "colab_type": "code",
        "colab": {
          "base_uri": "https://localhost:8080/",
          "height": 321
        },
        "outputId": "116365b2-2fc0-4e8c-8552-1dc4c24b28ca"
      },
      "source": [
        "cond_survived_gender.T.plot.bar(stacked=True)"
      ],
      "execution_count": 13,
      "outputs": [
        {
          "output_type": "execute_result",
          "data": {
            "text/plain": [
              "<matplotlib.axes._subplots.AxesSubplot at 0x7fbc5e4c4d68>"
            ]
          },
          "metadata": {
            "tags": []
          },
          "execution_count": 13
        },
        {
          "output_type": "display_data",
          "data": {
            "image/png": "[encoded data removed]",
            "text/plain": [
              "<Figure size 432x288 with 1 Axes>"
            ]
          },
          "metadata": {
            "tags": []
          }
        }
      ]
    },
    {
      "cell_type": "markdown",
      "metadata": {
        "id": "6jL0QjI_5T4g",
        "colab_type": "text"
      },
      "source": [
        "Now, let's unpack the code that generated this graphic. Recall that `.plot.bar()` plots each column of a `DataFrame` in a different color. Here we want different colors for each level of **survived**, so we need to swap the rows and columns of `cond_survived_gender`. In other words, we need the _transpose_ of the `DataFrame`, which is accomplished using `.T`."
      ]
    },
    {
      "cell_type": "code",
      "metadata": {
        "id": "Mo-3NPxk5T4h",
        "colab_type": "code",
        "colab": {}
      },
      "source": [
        "cond_survived_gender.T"
      ],
      "execution_count": 0,
      "outputs": []
    },
    {
      "cell_type": "markdown",
      "metadata": {
        "id": "0WdggwtW5T4j",
        "colab_type": "text"
      },
      "source": [
        "When we call `.plot.bar()` on this transposed `DataFrame`, with `stacked=True`, we obtain the stacked bar graph above."
      ]
    },
    {
      "cell_type": "markdown",
      "metadata": {
        "id": "hQxlW-oM5T4k",
        "colab_type": "text"
      },
      "source": [
        "## Exercises"
      ]
    },
    {
      "cell_type": "markdown",
      "metadata": {
        "id": "E7FFsbT_5T4m",
        "colab_type": "text"
      },
      "source": [
        "Exercises 1-4 ask you to continue working with the Titanic data set explored in this lesson."
      ]
    },
    {
      "cell_type": "markdown",
      "metadata": {
        "id": "sMmCTXYg5T4n",
        "colab_type": "text"
      },
      "source": [
        "1\\. Filter the data to include passengers only. Calculate the joint distribution between a passenger's class and where they embarked. "
      ]
    },
    {
      "cell_type": "markdown",
      "metadata": {
        "id": "s_Zwk3te5T4q",
        "colab_type": "text"
      },
      "source": [
        "2\\. Using the joint distribution that you calculated in Exercise 1, calculate the following:\n",
        "\n",
        "- the conditional distribution of their class given where they embarked\n",
        "- the conditional distribution of where they embarked given their class\n",
        "\n",
        "Use the conditional distributions that you calculate to answer the following questions:\n",
        "\n",
        "- What proportion of 3rd class passengers embarked at Southampton?\n",
        "- What proportion of Southampton passengers were in 3rd class?"
      ]
    },
    {
      "cell_type": "markdown",
      "metadata": {
        "id": "B4p41quj5T4s",
        "colab_type": "text"
      },
      "source": [
        "3\\. Make a visualization showing the distribution of a passenger's class, given where they embarked."
      ]
    },
    {
      "cell_type": "markdown",
      "metadata": {
        "id": "PZrb2BLW5T4t",
        "colab_type": "text"
      },
      "source": [
        "4\\. Compare the survival rates of crew members versus passengers. Which group appears to survive at higher rates?\n",
        "\n",
        "(_Hint:_ You will have to transform the **class** variable to a variable that indicates whether a person was a passenger or a crew member. Refer to the previous lesson.)"
      ]
    },
    {
      "cell_type": "markdown",
      "metadata": {
        "id": "krZH0nZZ5T4u",
        "colab_type": "text"
      },
      "source": [
        "Exercises 5-6 ask you to work with the Florida Death Penalty data set, which is available at  https://dlsun.github.io/pods/data/death_penalty.csv. This data set contains information about the races of the defendant and the victim, as well as whether a death penalty verdict was rendered, in 674 homicide trials in Florida between 1976-1987."
      ]
    },
    {
      "cell_type": "markdown",
      "metadata": {
        "id": "4VXeNjMI5T4u",
        "colab_type": "text"
      },
      "source": [
        "5\\. Use the joint distribution to summarize the relationship between the defendant's and the victim's races in Florida homicides."
      ]
    },
    {
      "cell_type": "markdown",
      "metadata": {
        "id": "GiodsH3i5T4v",
        "colab_type": "text"
      },
      "source": [
        "6\\. Does there appear to be a relationship between death penalty verdicts and the defendant's race? If so, in what direction?"
      ]
    }
  ]
}