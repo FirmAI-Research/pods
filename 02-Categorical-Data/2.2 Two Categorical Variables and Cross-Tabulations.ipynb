{
 "cells": [
  {
   "cell_type": "markdown",
   "metadata": {},
   "source": [
    "# Two-Way Tables and Two Categorical Variables"
   ]
  },
  {
   "cell_type": "markdown",
   "metadata": {},
   "source": [
    "Data science is all about relationships between variables. How do we summarize and visualize the relationship between two categorical variables?\n",
    "\n",
    "For example, what can we say about the relationship between gender and survival on the Titanic?"
   ]
  },
  {
   "cell_type": "code",
   "execution_count": null,
   "metadata": {},
   "outputs": [],
   "source": [
    "import pandas as pd\n",
    "data_dir = \"http://dlsun.github.io/pods/data/\"\n",
    "df_titanic = pd.read_csv(data_dir + \"titanic.csv\")"
   ]
  },
  {
   "cell_type": "markdown",
   "metadata": {},
   "source": [
    "We can summarize each variable individually like we did in the previous lesson."
   ]
  },
  {
   "cell_type": "code",
   "execution_count": null,
   "metadata": {},
   "outputs": [],
   "source": [
    "df_titanic[\"gender\"].value_counts()"
   ]
  },
  {
   "cell_type": "code",
   "execution_count": null,
   "metadata": {},
   "outputs": [],
   "source": [
    "df_titanic[\"survived\"].value_counts()"
   ]
  },
  {
   "cell_type": "markdown",
   "metadata": {},
   "source": [
    "But this does not tell us how gender interacts with survival. To do that, we need to produce a _cross-tabulation_, or \"cross-tab\" for short. (Statisticians tend to call this a _contigency table_ or a _two-way table_.)"
   ]
  },
  {
   "cell_type": "code",
   "execution_count": null,
   "metadata": {},
   "outputs": [],
   "source": [
    "pd.crosstab(df_titanic[\"survived\"], df_titanic[\"gender\"])"
   ]
  },
  {
   "cell_type": "markdown",
   "metadata": {},
   "source": [
    "A cross-tabulation of two categorical variables is a two-dimensional array, with the levels of one variable along the rows and the levels of the other variable along the columns. Each cell in this array contains the number of observations that had each possible combination of levels. So in the Titanic data set, there were 359 females who survived and 1366 males who died. From the cross-tabulation, we can see that there were more females who survived than not, while there were more males who died than not. Clearly, gender had a strong influence on survival because of the Titanic's policy of [\"women and children first\"](https://en.wikipedia.org/wiki/Women_and_children_first).\n",
    "\n",
    "We can also obtain a cross-tabulation with probabilities instead of counts by specifying `normalize=True`."
   ]
  },
  {
   "cell_type": "code",
   "execution_count": null,
   "metadata": {},
   "outputs": [],
   "source": [
    "joint_survived_gender = pd.crosstab(df_titanic[\"survived\"], df_titanic[\"gender\"], normalize=True)\n",
    "joint_survived_gender"
   ]
  },
  {
   "cell_type": "markdown",
   "metadata": {},
   "source": [
    "Notice that the four probabilities in this table add up to 1.0. Each of these probabilities is called a joint probability and can be notated as \n",
    "\n",
    "$$ P(\\text{female}, \\text{died}) = 0.058903.$$\n",
    "\n",
    "Collectively, these probabilities make up the _joint distribution_ of the variables **survived** and **gender**."
   ]
  },
  {
   "cell_type": "markdown",
   "metadata": {},
   "source": [
    "## Marginal Distributions\n",
    "\n",
    "Is it possible to recover the distribution of **gender** alone from the joint distribution of **survived** and **gender**? "
   ]
  },
  {
   "cell_type": "markdown",
   "metadata": {},
   "source": [
    "Yes! We simply sum the probabilities for each **gender** over all the possible levels of **survived**.\n",
    "\n",
    "\\begin{align}\n",
    "P(\\text{female}) = P(\\text{female}, \\text{died}) + P(\\text{female}, \\text{survived}) &= 0.058903 + 0.162664 = 0.221567 \\\\\n",
    "P(\\text{male}) = P(\\text{male}, \\text{died}) + P(\\text{male}, \\text{survived}) &= 0.618940 + 0.159493 = 0.778433\n",
    "\\end{align}"
   ]
  },
  {
   "cell_type": "markdown",
   "metadata": {},
   "source": [
    "In code, this can be achieved by summing the `DataFrame` _over_ one of the dimensions. We can specify which dimension to sum over, using the `axis=` argument to `.sum()`.\n",
    "\n",
    "- `axis=0` refers to the rows. In the current example, **survived** is the variable along this axis.\n",
    "- `axis=1` refers to the columns. In the current example, **gender** is the variable along this axis.\n",
    "\n",
    "Since we want to sum _over_ the **survived** variable, we specify `.sum(axis=0)`."
   ]
  },
  {
   "cell_type": "code",
   "execution_count": null,
   "metadata": {},
   "outputs": [],
   "source": [
    "gender = joint_survived_gender.sum(axis=0)\n",
    "gender"
   ]
  },
  {
   "cell_type": "markdown",
   "metadata": {},
   "source": [
    "When calculated from a joint distribution, the distribution of one variable alone is called a _marginal distribution_. So the above is the marginal distribution of **gender**. \n",
    "\n",
    "The name \"marginal distribution\" comes from the fact that it is customary to write these totals in the _margins_ of the joint distribution table. In fact `pd.crosstab()` has an argument `margins=` that will add these margins to the joint distribution table."
   ]
  },
  {
   "cell_type": "code",
   "execution_count": null,
   "metadata": {},
   "outputs": [],
   "source": [
    "pd.crosstab(df_titanic[\"survived\"], df_titanic[\"gender\"], normalize=True, margins=True)"
   ]
  },
  {
   "cell_type": "markdown",
   "metadata": {},
   "source": [
    "While tables with the margins are useful for display purposes, they are not useful for computations, since they mix up the joint and marginal distributions.\n",
    "\n",
    "Likewise, to obtain the marginal distribution of **survived**, we sum over the possible levels of **gender** (which is along `axis=1`)."
   ]
  },
  {
   "cell_type": "code",
   "execution_count": null,
   "metadata": {},
   "outputs": [],
   "source": [
    "survived = joint_survived_gender.sum(axis=1)\n",
    "survived"
   ]
  },
  {
   "cell_type": "markdown",
   "metadata": {},
   "source": [
    "We can check this answer by calculating the distribution of **gender** directly from the original data, using the techniques we learned in the previous lesson."
   ]
  },
  {
   "cell_type": "code",
   "execution_count": null,
   "metadata": {},
   "outputs": [],
   "source": [
    "df_titanic[\"gender\"].value_counts(normalize=True)"
   ]
  },
  {
   "cell_type": "markdown",
   "metadata": {},
   "source": [
    "## Conditional Distributions\n",
    "\n",
    "Let's take another look at the joint distribution of **survived** and **gender**."
   ]
  },
  {
   "cell_type": "code",
   "execution_count": null,
   "metadata": {},
   "outputs": [],
   "source": [
    "joint_survived_gender"
   ]
  },
  {
   "cell_type": "markdown",
   "metadata": {},
   "source": [
    "From the joint distribution, it is tempting to conclude that females and males did not differ too much in their survival rates, since \n",
    "\n",
    "$$ P(\\text{female}, \\text{survived}) = 0.162664 $$\n",
    "\n",
    "is not too different from\n",
    "\n",
    "$$ P(\\text{male}, \\text{survived}) = 0.159493. $$\n",
    "\n",
    "This is because there were 359 women and 352 men who survived, out of 2207 passengers.\n",
    "\n",
    "But this is the wrong comparison. The joint probabilities are affected by the baseline gender probabilities, and over three-quarters of the people aboard the Titanic were men. $P(\\text{male}, \\text{survived})$ and $ P(\\text{female}, \\text{survived})$ should not even be close. If men were just as likely to survive as women, $P(\\text{male}, \\text{survived})$ should be much higher, simply because of the sheer number of men aboard."
   ]
  },
  {
   "cell_type": "markdown",
   "metadata": {},
   "source": [
    "A better comparison is between the conditional probabilities. We ought to compare \n",
    "\n",
    "$$ P(\\text{survived} | \\text{female}) $$\n",
    "\n",
    "to \n",
    "\n",
    "$$ P(\\text{survived} | \\text{male}). $$\n",
    "\n",
    "To calculate each conditional probability, we simply divide the joint probability by the marginal probability. That is,\n",
    "\n",
    "\\begin{align}\n",
    "P(\\text{survived} | \\text{female}) = \\frac{P(\\text{female}, \\text{survived})}{P(\\text{female})} &= \\frac{0.162664}{0.221568} = .7341 \\\\\n",
    "P(\\text{survived} | \\text{male}) = \\frac{P(\\text{male}, \\text{survived})}{P(\\text{male})} &= \\frac{0.159493}{0.778432} = .2049\n",
    "\\end{align}\n",
    "\n",
    "The conditional probabilities expose the stark difference in survival rates. One way to think about conditional probabilities is that they _adjust_ for the baseline gender probabilities. For example, by dividing by $P(\\text{male})$ and $P(\\text{female})$, we adjust for the fact that there were more men and fewer women on the Titanic, making the comparison apples-to-apples."
   ]
  },
  {
   "cell_type": "markdown",
   "metadata": {},
   "source": [
    "In code, this can be achieved by dividing the joint distribution by the marginal distribution (of **gender**). However, we have to be careful:\n",
    "\n",
    "- The joint distribution is a two-dimensional array. It is stored as a `DataFrame`.\n",
    "- The marginal distribution (of **gender**) is a one-dimensional array. It is stored as a `Series`.\n",
    "\n",
    "How is it possible to divide a two-dimensional object by a one-dimensional object? Only by _broadcasting_ the one-dimensional object over the other dimension. To do this, we use the `.divide()` method, specifying which dimension to align. Since **gender** is on `axis=1` of `joint_survived_gender`, we align the `DataFrame` and `Series` along `axis=1`."
   ]
  },
  {
   "cell_type": "code",
   "execution_count": null,
   "metadata": {},
   "outputs": [],
   "source": [
    "cond_survived_gender = joint_survived_gender.divide(gender, axis=1)\n",
    "cond_survived_gender "
   ]
  },
  {
   "cell_type": "markdown",
   "metadata": {},
   "source": [
    "Every probability in this table represents a conditional probability of gender given survival status. So from the table, we can read that \n",
    "\n",
    "$$ P(\\text{survived} | \\text{female}) = 0.734151. $$\n",
    "\n",
    "Notice that each row sums to $1.0$---as it must, since given the information that a person was female, there are only two possibilities: she either survived or died.\n",
    "\n",
    "In other words, we have a distribution of **survived** for each level of **gender**. We can overlay these two distributions for easy comparison. When we call `.plot.bar()` on a `DataFrame`, it will plot the values in each column as a set of bars, indexed by the rows."
   ]
  },
  {
   "cell_type": "code",
   "execution_count": null,
   "metadata": {},
   "outputs": [],
   "source": [
    "cond_survived_gender.plot.bar()"
   ]
  },
  {
   "cell_type": "markdown",
   "metadata": {},
   "source": [
    "Another way to visualize a conditional distribution is to use a stacked bar graph. Here, we want one bar for females and another for males, each one divided in proportion to the survival rates for that gender. First, let's take a look at the desired graph."
   ]
  },
  {
   "cell_type": "code",
   "execution_count": null,
   "metadata": {},
   "outputs": [],
   "source": [
    "cond_survived_gender.T.plot.bar(stacked=True)"
   ]
  },
  {
   "cell_type": "markdown",
   "metadata": {},
   "source": [
    "Now, let's unpack the code that generated this graphic. Recall that `.plot.bar()` uses a different color for each column. Here we want different colors for each level of **survived**, so we need to swap the rows and columns of `cond_survived_gender`. In other words, we need the _transpose_ of the `DataFrame`, which is accomplished using `.T`."
   ]
  },
  {
   "cell_type": "code",
   "execution_count": null,
   "metadata": {},
   "outputs": [],
   "source": [
    "cond_survived_gender.T"
   ]
  },
  {
   "cell_type": "markdown",
   "metadata": {},
   "source": [
    "When we call `.plot.bar()` on this `DataFrame`, with `stacked=True`, we obtain the stacked bar graph above."
   ]
  },
  {
   "cell_type": "markdown",
   "metadata": {},
   "source": [
    "## Exercises"
   ]
  },
  {
   "cell_type": "markdown",
   "metadata": {},
   "source": [
    "Exercises 1-4 ask you to continue working with the Titanic data set explored in this lesson."
   ]
  },
  {
   "cell_type": "markdown",
   "metadata": {},
   "source": [
    "1\\. Filter the data to include passengers only. Calculate the joint distribution between a passenger's class and where they embarked. "
   ]
  },
  {
   "cell_type": "markdown",
   "metadata": {},
   "source": [
    "2\\. Using the joint distribution that you calculated in Exercise 1, calculate the following:\n",
    "\n",
    "- the conditional distribution of their class given where they embarked\n",
    "- the conditional distribution of where they embarked given their class\n",
    "\n",
    "Use the conditional distributions that you calculate to answer the following questions:\n",
    "\n",
    "- What proportion of 3rd class passengers embarked at Southampton?\n",
    "- What proportion of Southampton passengers were in 3rd class?"
   ]
  },
  {
   "cell_type": "markdown",
   "metadata": {},
   "source": [
    "3\\. Make a visualization showing the distribution of a passenger's class, given where they embarked."
   ]
  },
  {
   "cell_type": "markdown",
   "metadata": {},
   "source": [
    "4\\. Compare the survival rates of crew members versus passengers. Which group appears to survive at higher rates?\n",
    "\n",
    "(_Hint:_ You will have to transform the **class** variable to a variable that indicates whether a person was a passenger or a crew member. Refer to the previous lesson.)"
   ]
  },
  {
   "cell_type": "markdown",
   "metadata": {},
   "source": [
    "Exercises 5-6 ask you to work with the Florida Death Penalty data set, which is available at  https://dlsun.github.io/pods/data/death_penalty.csv. This data set contains information about the races of the defendant and the victim, as well as whether a death penalty verdict was rendered, in 674 homicide trials in Florida between 1976-1987."
   ]
  },
  {
   "cell_type": "markdown",
   "metadata": {},
   "source": [
    "5\\. Use the joint distribution to summarize the relationship between the defendant's and the victim's races in Florida homicides."
   ]
  },
  {
   "cell_type": "markdown",
   "metadata": {},
   "source": [
    "6\\. Does there appear to be a relationship between death penalty verdicts and the defendant's race? If so, in what direction?"
   ]
  }
 ],
 "metadata": {
  "kernelspec": {
   "display_name": "Python 3",
   "language": "python",
   "name": "python3"
  },
  "language_info": {
   "codemirror_mode": {
    "name": "ipython",
    "version": 3
   },
   "file_extension": ".py",
   "mimetype": "text/x-python",
   "name": "python",
   "nbconvert_exporter": "python",
   "pygments_lexer": "ipython3",
   "version": "3.6.8"
  }
 },
 "nbformat": 4,
 "nbformat_minor": 2
}
