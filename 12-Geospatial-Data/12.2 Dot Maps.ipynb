{
  "nbformat": 4,
  "nbformat_minor": 0,
  "metadata": {
    "kernelspec": {
      "display_name": "Python 3",
      "language": "python",
      "name": "python3"
    },
    "language_info": {
      "codemirror_mode": {
        "name": "ipython",
        "version": 3
      },
      "file_extension": ".py",
      "mimetype": "text/x-python",
      "name": "python",
      "nbconvert_exporter": "python",
      "pygments_lexer": "ipython3",
      "version": "3.6.8"
    },
    "colab": {
      "name": "12.2 Dot Maps.ipynb",
      "provenance": [],
      "include_colab_link": true
    }
  },
  "cells": [
    {
      "cell_type": "markdown",
      "metadata": {
        "id": "view-in-github",
        "colab_type": "text"
      },
      "source": [
        "<a href=\"https://colab.research.google.com/github/dlsun/pods/blob/master/12-Geospatial-Data/12.2%20Dot%20Maps.ipynb\" target=\"_parent\"><img src=\"https://colab.research.google.com/assets/colab-badge.svg\" alt=\"Open In Colab\"/></a>"
      ]
    },
    {
      "cell_type": "markdown",
      "metadata": {
        "id": "LZhFkVU_wnT0",
        "colab_type": "text"
      },
      "source": [
        "# 12.2 Dot Maps\n",
        "\n",
        "A **dot map** is a way to visualize the locations of events in space. In a dot map, points are added to a map to represent the geographic location of some event.\n",
        "\n",
        "The most important dot map ever made is perhaps John Snow's map of the cholera cases during the 1854 London cholera outbreak. At the time, the cause of cholera was unknown. Snow's dot map showed that the cholera cases centered around a particular water pump, the Broad Street pump. (In the days before running water, residents had to fetch water from the local water pump.) Snow's dot map is shown below; each \"dot\" is a thin black box. Snow stacked the boxes when there were multiple people in one residence that contracted cholera. At this resolution, the data appear as black bars of different heights, but if you zoom in, you will see the individual \"dots\".\n",
        "\n",
        "![](https://github.com/dlsun/pods/blob/master/12-Geospatial-Data/img/cholera.jpg?raw=1)\n",
        "\n",
        "Snow followed up on his insight by interviewing residents near the Broad Street pump. He found that everyone who had contracted cholera had consumed water from the Broad Street pump; those who lived near the pump but did not contract cholera got their water from a different pump. Thus, a single dot map gave John Snow the key insight he needed to identify the cause of cholera."
      ]
    },
    {
      "cell_type": "markdown",
      "metadata": {
        "id": "XfJ0MeKfwnT4",
        "colab_type": "text"
      },
      "source": [
        "Let's look at how to make dot maps in Python. We will make a map of all earthquakes in the world on June 4, 2018. First, we read in the data."
      ]
    },
    {
      "cell_type": "code",
      "metadata": {
        "id": "RSAJ47MywnT6",
        "colab_type": "code",
        "colab": {}
      },
      "source": [
        "import pandas as pd\n",
        "\n",
        "data_dir = \"https://dlsun.github.io/pods/data/\"\n",
        "df_quakes = pd.read_csv(data_dir + \"earthquakes.csv\")\n",
        "df_quakes"
      ],
      "execution_count": 0,
      "outputs": []
    },
    {
      "cell_type": "markdown",
      "metadata": {
        "id": "pnQ0NyTywnT-",
        "colab_type": "text"
      },
      "source": [
        "Now, we set up the basic map, just as we did in the previous section. To add the points to the map, we make a scatterplot, just like we learned in Chapter 3, but we have to specify the coordinate system we are using. (Longitude and latitude are not the only way to specify a geographic location.) If the coordinates are specified in longitude and latitude, a good default transform is the `Geodetic`."
      ]
    },
    {
      "cell_type": "code",
      "metadata": {
        "id": "afwNUhfFwybO",
        "colab_type": "code",
        "colab": {}
      },
      "source": [
        "# I had to uninstall Shapely to get this to work in Colab.\n",
        "!pip uninstall -y shapely\n",
        "!apt-get -qq install python-cartopy python3-cartopy"
      ],
      "execution_count": 0,
      "outputs": []
    },
    {
      "cell_type": "code",
      "metadata": {
        "id": "RsSKsYrfwnUB",
        "colab_type": "code",
        "colab": {}
      },
      "source": [
        "import cartopy.crs as ccrs\n",
        "import matplotlib.pyplot as plt\n",
        "\n",
        "ax = plt.axes(projection=ccrs.Robinson())\n",
        "ax.coastlines()\n",
        "\n",
        "df_quakes.plot.scatter(ax=ax,\n",
        "                       x=\"longitude\", y=\"latitude\",\n",
        "                       c=\"red\",\n",
        "                       transform=ccrs.Geodetic())"
      ],
      "execution_count": 0,
      "outputs": []
    },
    {
      "cell_type": "markdown",
      "metadata": {
        "id": "3b2TLHANwnUF",
        "colab_type": "text"
      },
      "source": [
        "Just as before, we can use size to represent another dimension of the data. In the graphic below, we use size to represent the magnitude of each earthquake."
      ]
    },
    {
      "cell_type": "code",
      "metadata": {
        "id": "nQCwgUMOwnUG",
        "colab_type": "code",
        "colab": {}
      },
      "source": [
        "import numpy as np\n",
        "\n",
        "ax = plt.axes(projection=ccrs.Robinson())\n",
        "ax.coastlines()\n",
        "\n",
        "ax.scatter(df_quakes[\"longitude\"], df_quakes[\"latitude\"],\n",
        "           c=\"red\", s=2 ** df_quakes[\"mag\"],\n",
        "           transform=ccrs.Geodetic())"
      ],
      "execution_count": 0,
      "outputs": []
    },
    {
      "cell_type": "markdown",
      "metadata": {
        "id": "IA5BZSpVwnUJ",
        "colab_type": "text"
      },
      "source": [
        "# Exercises"
      ]
    },
    {
      "cell_type": "markdown",
      "metadata": {
        "id": "4ov-bYCQwnUK",
        "colab_type": "text"
      },
      "source": [
        "1\\. The file `https://dlsun.github.io/pods/data/ncaa-football-stadiums.csv` contains information about the locations and capacity of NCAA football stadiums. Make a dot map that represents this data."
      ]
    }
  ]
}