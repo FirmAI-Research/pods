{
 "cells": [
  {
   "cell_type": "markdown",
   "metadata": {},
   "source": [
    "# 11.2 The XML Data Format\n",
    "\n",
    "**XML**, which stands for eXtensible Markup Language, is another way to represent hierarchical data. The basic building block of XML is the **tag**, denoted by angle brackets `<>`.\n",
    "\n",
    "For example, a data set of movies might be represented using XML as follows:\n",
    "\n",
    "```\n",
    "<movies>\n",
    "  <movie id=\"1\" title=\"The Godfather\">\n",
    "    <director id=\"50\" name=\"Coppola, Francis Ford\">\n",
    "    </director>\n",
    "    <releasedate>1972-03-24</releasedate>\n",
    "    <character id=\"100\" name=\"Vito Corleone\">\n",
    "      <actor id=\"200\" name=\"Brando, Marlon\">\n",
    "      </actor>\n",
    "    </character>\n",
    "    <character id=\"101\" name=\"Michael Corleone\">\n",
    "      <actor id=\"201\" name=\"Pacino, Al\">\n",
    "      </actor>\n",
    "    </character>\n",
    "    ...\n",
    "  </movie>\n",
    "  <movie id=\"2\" title=\"The Godfather: Part II\">\n",
    "    <director id=\"50\" name=\"Coppola, Francis Ford\">\n",
    "    </director>\n",
    "    <releasedate>1974-10-20</releasedate>\n",
    "    <character id=\"101\" name=\"Michael Corleone\">\n",
    "      <actor id=\"201\" name=\"Pacino, Al\">\n",
    "      </actor>\n",
    "    </character>\n",
    "    <character id=\"100\" name=\"Vito Corleone\">\n",
    "      <actor id=\"250\" name=\"De Niro, Robert\">\n",
    "      </actor>\n",
    "    </character>\n",
    "    ...\n",
    "  </movie>\n",
    "  ...\n",
    "</movies>\n",
    "```\n",
    "\n",
    "Note the following features of XML:\n",
    "\n",
    "- Every tag `<a>` has a corresponding closing tag `</a>`. You can always recognize a closing tag by the forward slash `/`.\n",
    "- Additional tags and/or strings can be nested between the opening and closing tags. In the example above, `<actor>` is nested between `<character>` and `</character>`, and `<character>` is nested between `<movie>` and `</movie>`. The nesting is used to represent hierarchy.\n",
    "- Indentation is used to make the code more readable (to make it easier to see the nesting structure). But it is optional.\n",
    "- Attributes can be associated with each tag, like `id=` and `name=` with the `<character>` tag and `id=` and `title=` with the `<movie>` tag.\n",
    "\n",
    "Each tag represents a variable in the data set. Unlike JSON, which uses lists to represent repeated fields, XML represents repeated fields by simply repeating tags where necessary. In the example above, there are multiple instances of `<movie>` within `<movies>` and multiple instances of `<character>` within `<movie>`, so `movie` and `character` are both repeated fields. (In fact, `director` is also a repeated field, but it is impossible to tell from the code above, since the movies shown above only have one director.)\n",
    "\n",
    "You will learn XML by working with a data set of programs by the New York Philharmonic (one of the leading orchestras in the world). First, let's take a peek at the data."
   ]
  },
  {
   "cell_type": "code",
   "execution_count": null,
   "metadata": {},
   "outputs": [],
   "source": [
    "import requests\n",
    "response = requests.get(\"https://github.com/nyphilarchive/PerformanceHistory/blob/master/Programs/xml/1963-64_TO_1973-74.xml?raw=true\")\n",
    "response.text[:1000]"
   ]
  },
  {
   "cell_type": "markdown",
   "metadata": {},
   "source": [
    "Notice that this XML file is nearly twice as large as the JSON file. Although XML is more readable than JSON, it is a more expensive way to store hierarchical data, primarily because of the cost of storing both the opening and closing tags."
   ]
  },
  {
   "cell_type": "markdown",
   "metadata": {},
   "source": [
    "There are several libraries in Python for working with XML, including BeautifulSoup (which we will use in the next section to parse HTML), ElementTree, and `lxml`. We will use `lxml` to work with XML data because it is fastest for large data sets, provided that the data is well-formed. The `lxml` library provides a convenient API that replicates all of the functionality of ElementTree, plus implements a few additional features that are useful for data analysis."
   ]
  },
  {
   "cell_type": "code",
   "execution_count": null,
   "metadata": {},
   "outputs": [],
   "source": [
    "from lxml import etree"
   ]
  },
  {
   "cell_type": "markdown",
   "metadata": {},
   "source": [
    "First, let's read in the data. Since we have the XML as a string in memory, we use the `etree.fromstring()` to load the data. Note that `.fromstring()` returns the root node."
   ]
  },
  {
   "cell_type": "code",
   "execution_count": null,
   "metadata": {},
   "outputs": [],
   "source": [
    "string = response.text.encode()\n",
    "etree.fromstring(string)"
   ]
  },
  {
   "cell_type": "markdown",
   "metadata": {},
   "source": [
    "Each direct descendant, or **child**, of `<programs>` is a program. To find the direct descendants of a tag, we call the `.getchildren()` method."
   ]
  },
  {
   "cell_type": "code",
   "execution_count": null,
   "metadata": {},
   "outputs": [],
   "source": [
    "programs = etree.fromstring(string)\n",
    "print(len(programs.getchildren()))\n",
    "programs.getchildren()[:10]"
   ]
  },
  {
   "cell_type": "markdown",
   "metadata": {},
   "source": [
    "Let's print out the first of these programs. There are two ways to get the first program."
   ]
  },
  {
   "cell_type": "code",
   "execution_count": null,
   "metadata": {},
   "outputs": [],
   "source": [
    "# METHOD 1: Get it from the list above.\n",
    "program = programs.getchildren()[0]\n",
    "\n",
    "# METHOD 2: Use .find() to find the first instance of a tag.\n",
    "program = programs.find(\"program\")\n",
    "program"
   ]
  },
  {
   "cell_type": "markdown",
   "metadata": {},
   "source": [
    "Now let's see how the data is represented by printing out the XML of this program. To do this, we use the `etree.tostring()` function."
   ]
  },
  {
   "cell_type": "code",
   "execution_count": null,
   "metadata": {},
   "outputs": [],
   "source": [
    "print(etree.tostring(program, encoding=\"unicode\"))"
   ]
  },
  {
   "cell_type": "markdown",
   "metadata": {},
   "source": [
    "Hopefully, the structure of this data is self-explanatory. \"Work\", \"concertInfo\", and \"soloist\" are repeated fields inside \"program\". One difference between JSON and XML is that \"work\" is not directly nested within \"program\"; the \"work\" tags are all nested inside an additional \"worksInfo\" tag.\n",
    "\n",
    "Now suppose that we want to flatten the data at the level of soloists. To get all of the soloists, we can use the `.findall()` method. Let's first try the obvious solution, which does not work:"
   ]
  },
  {
   "cell_type": "code",
   "execution_count": null,
   "metadata": {},
   "outputs": [],
   "source": [
    "programs.findall(\"soloist\")"
   ]
  },
  {
   "cell_type": "markdown",
   "metadata": {},
   "source": [
    "Why did `lxml` fail to find any `<soloist>` tags? That's because `.findall()` only searches among the direct descendants of a tag. We called `.findall()` on the `<programs>` tag, but all of its descendants are `<program>` tags.\n",
    "\n",
    "To specify that `lxml` should look for `<soloist>` tags among all descendants, not just direct ones, we use the `.xpath()` command, which allows us to specify an XPath expression. [XPath](https://www.w3schools.com/xml/xpath_syntax.asp) is a language used to select nodes from XML documents. The XPath expression to select all descendants named `<soloist>` of the current tag is `\".//soloist\"`. We pass this expression to the `.xpath()` method."
   ]
  },
  {
   "cell_type": "code",
   "execution_count": null,
   "metadata": {},
   "outputs": [],
   "source": [
    "soloists = programs.xpath(\".//soloist\")\n",
    "len(soloists)"
   ]
  },
  {
   "cell_type": "markdown",
   "metadata": {},
   "source": [
    "Now, to flatten the data at the level of soloists, we just need to turn `soloists` into a `DataFrame` with as many rows. But what if we want to include information from parent levels, like the composer of the work the soloist played? There are two ways.\n",
    "\n",
    "### Method 1\n",
    "\n",
    "Since `<composerName>` is a descendant of `<work>`, one way is to navigate up to the level of `<work>` by calling `.getparent()` repeatedly and then find `<composerName>` among its descendants:"
   ]
  },
  {
   "cell_type": "code",
   "execution_count": null,
   "metadata": {},
   "outputs": [],
   "source": [
    "soloist = soloists[0]\n",
    "\n",
    "# The first .getparent() returns the <soloists> tag.\n",
    "# The second .getparent() returns the <work> tag.\n",
    "# You have to figure this out by inspecting the XML.\n",
    "work = soloist.getparent().getparent()\n",
    "work.xpath(\".//composerName\")"
   ]
  },
  {
   "cell_type": "markdown",
   "metadata": {},
   "source": [
    "This is a list with one tag, so we extract that tag and the text inside it."
   ]
  },
  {
   "cell_type": "code",
   "execution_count": null,
   "metadata": {},
   "outputs": [],
   "source": [
    "work.xpath(\".//composerName\")[0].text"
   ]
  },
  {
   "cell_type": "markdown",
   "metadata": {},
   "source": [
    "### Method 2\n",
    "\n",
    "As the number of levels of nesting increases, it quickly becomes impractical to call `.getparent()` repeatedly. We want to be able to jump directly to the right ancestor. The easiest way to do this is to use the XPath expression for an ancestor. To search for all ancestors named \"work\", we can use the XPath expression `\"ancestor::work\"`."
   ]
  },
  {
   "cell_type": "code",
   "execution_count": null,
   "metadata": {},
   "outputs": [],
   "source": [
    "soloist.xpath(\"ancestor::work\")"
   ]
  },
  {
   "cell_type": "markdown",
   "metadata": {},
   "source": [
    "Now, we can extract this single work tag and find its descendants named `<composerName>`. Or better yet, we can combine this step with the above step into a single XPath expression."
   ]
  },
  {
   "cell_type": "code",
   "execution_count": null,
   "metadata": {},
   "outputs": [],
   "source": [
    "soloist.xpath(\"ancestor::work//composerName\")[0].text"
   ]
  },
  {
   "cell_type": "markdown",
   "metadata": {},
   "source": [
    "Now let's put it all together. We will flatten the data to get a `DataFrame` with one soloist per row. We will keep track of the soloist's name, instrument, and role---as well as the composer of the work they performed. Unfortunately, it is much more manual to do this with XML than with JSON. There is no XML equivalent of the `json_normalize` function that will automatically produce a `DataFrame`, so we have to construct the `DataFrame` ourselves."
   ]
  },
  {
   "cell_type": "code",
   "execution_count": null,
   "metadata": {},
   "outputs": [],
   "source": [
    "import pandas as pd\n",
    "\n",
    "rows = []\n",
    "\n",
    "soloists = programs.xpath(\".//soloist\")\n",
    "for soloist in soloists:\n",
    "    row = {}\n",
    "    row[\"soloistName\"] = soloist.find(\"soloistName\").text\n",
    "    row[\"soloistInstrument\"] = soloist.find(\"soloistInstrument\").text\n",
    "    row[\"soloistRoles\"] = soloist.find(\"soloistRoles\").text\n",
    "    row[\"composerName\"] = soloist.xpath(\"ancestor::work//composerName\")[0].text\n",
    "    rows.append(row)\n",
    "    \n",
    "df_soloists = pd.DataFrame(rows)\n",
    "df_soloists"
   ]
  },
  {
   "cell_type": "markdown",
   "metadata": {},
   "source": [
    "Now, this is a `DataFrame` that we can analyze easily. For example, here is how many times Benny Goodman programmed a work by Weber with the NY Phil:"
   ]
  },
  {
   "cell_type": "code",
   "execution_count": null,
   "metadata": {},
   "outputs": [],
   "source": [
    "df_soloists[df_soloists[\"soloistName\"] == \"Goodman, Benny\"].composerName.value_counts()"
   ]
  },
  {
   "cell_type": "markdown",
   "metadata": {},
   "source": [
    "# Exercises\n",
    "\n",
    "Exercises 1 and 2 deal with the New York Philharmonic data set from above. These exercises are the same as the ones in the previous section, except that now you have to do them with XML."
   ]
  },
  {
   "cell_type": "markdown",
   "metadata": {},
   "source": [
    "1\\. What is the most frequent start time for New York Philharmonic concerts?"
   ]
  },
  {
   "cell_type": "markdown",
   "metadata": {},
   "source": [
    "2\\. How many total concerts did the New York Philharmonic perform in the 1970-71 season?"
   ]
  },
  {
   "cell_type": "markdown",
   "metadata": {},
   "source": [
    "In Exercise 3, you will work with [data from the Meteorologisk Institutt of Norway](https://api.met.no/weatherapi/documentation), which returns weather data in XML form.\n",
    "\n",
    "If you run into unexpected errors, issue the same HTTP request from your browser to make sure that the data is in the format you expect."
   ]
  },
  {
   "cell_type": "markdown",
   "metadata": {},
   "source": [
    "3\\. Make a graph showing the forecasted temperature for the upcoming week in Oslo, Norway. Make a graphic that displays this information.\n",
    "\n",
    "(Hint: You may want to look up the latitude and longitude of Oslo.)"
   ]
  }
 ],
 "metadata": {
  "kernelspec": {
   "display_name": "Python 3",
   "language": "python",
   "name": "python3"
  },
  "language_info": {
   "codemirror_mode": {
    "name": "ipython",
    "version": 3
   },
   "file_extension": ".py",
   "mimetype": "text/x-python",
   "name": "python",
   "nbconvert_exporter": "python",
   "pygments_lexer": "ipython3",
   "version": "3.6.8"
  }
 },
 "nbformat": 4,
 "nbformat_minor": 2
}
